{
 "cells": [
  {
   "cell_type": "code",
   "execution_count": 44,
   "metadata": {},
   "outputs": [],
   "source": [
    "import numpy as np\n",
    "import pandas as pd\n",
    "import matplotlib.pyplot as plt\n",
    "import umap\n",
    "import umap.plot\n",
    "from sklearn.decomposition import PCA\n",
    "from sklearn.manifold import TSNE\n",
    "from sklearn.preprocessing import StandardScaler\n",
    "from sklearn.datasets import fetch_openml"
   ]
  },
  {
   "cell_type": "code",
   "execution_count": 45,
   "metadata": {},
   "outputs": [],
   "source": [
    "# Data\n",
    "\n",
    "trad_data = pd.read_csv(\"data/Braver_StroopData.csv\")\n",
    "trad_df = pd.DataFrame(trad_data)\n",
    "\n",
    "embodied_data = pd.read_csv(\"data/eeg_n450.csv\")\n",
    "embodied_df = pd.DataFrame(embodied_data)"
   ]
  },
  {
   "cell_type": "code",
   "execution_count": 46,
   "metadata": {},
   "outputs": [
    {
     "data": {
      "text/plain": [
       "Index(['Unnamed: 0', 'trial', 'rule', 'pc', 'congruency', 'stimset', 'subj',\n",
       "       'session', 'run', 'block',\n",
       "       ...\n",
       "       'PreResp.CP6', 'PreResp.C4', 'PreResp.FC2', 'PreResp.FC6', 'PreResp.F4',\n",
       "       'PreResp.F8', 'PreResp.Fp2', 'PreResp.VEOG', 'PreResp.HEOGR',\n",
       "       'PreResp.Cz'],\n",
       "      dtype='object', length=109)"
      ]
     },
     "execution_count": 46,
     "metadata": {},
     "output_type": "execute_result"
    }
   ],
   "source": [
    "trad_df.columns"
   ]
  },
  {
   "cell_type": "code",
   "execution_count": 47,
   "metadata": {},
   "outputs": [],
   "source": [
    "trad_eeg_columns = [col for col in trad_df.columns if col.startswith(\"N450.\")]\n",
    "trad_metadata_columns = ['trial', 'rule', 'subj', 'session', 'run', 'pc', 'stimset']  \n",
    "\n",
    "trad_eeg_data = trad_df[trad_eeg_columns].values  # EEG data (trials × channels)\n",
    "trad_rule = trad_df['rule'].values       # Task rule: \"color\" or \"word\""
   ]
  },
  {
   "cell_type": "code",
   "execution_count": 48,
   "metadata": {},
   "outputs": [],
   "source": [
    "embodied_cols = [col for col in embodied_df.columns if col.startswith(\"EEG\")]\n",
    "embodied_metadata_cols = [\"trial_start\", \"rule\"]\n",
    "\n",
    "embodied_eeg_data = embodied_df[embodied_cols].values\n",
    "embodied_rule = embodied_df[\"rule\"].values"
   ]
  },
  {
   "cell_type": "code",
   "execution_count": 49,
   "metadata": {},
   "outputs": [],
   "source": [
    "# Standardizing traditional Stroop task\n",
    "\n",
    "scaler = StandardScaler()\n",
    "\n",
    "trad_eeg_data_scaled = scaler.fit_transform(trad_eeg_data)"
   ]
  },
  {
   "cell_type": "code",
   "execution_count": 50,
   "metadata": {},
   "outputs": [
    {
     "name": "stdout",
     "output_type": "stream",
     "text": [
      "Number of NaNs in EEG data: 20736\n"
     ]
    }
   ],
   "source": [
    "nan_counts = np.isnan(trad_eeg_data_scaled).sum()\n",
    "print(f\"Number of NaNs in EEG data: {nan_counts}\")"
   ]
  },
  {
   "cell_type": "code",
   "execution_count": 51,
   "metadata": {},
   "outputs": [],
   "source": [
    "valid_rows = ~np.isnan(trad_eeg_data_scaled).any(axis=1)\n",
    "\n",
    "clean_trad_eeg = trad_eeg_data_scaled[valid_rows]\n",
    "clean_rule = trad_rule[valid_rows]"
   ]
  },
  {
   "cell_type": "code",
   "execution_count": 52,
   "metadata": {},
   "outputs": [],
   "source": [
    "# Standardizing Embodied Stroop task\n",
    "embodied_scaled = scaler.fit_transform(embodied_eeg_data)"
   ]
  },
  {
   "cell_type": "code",
   "execution_count": 53,
   "metadata": {},
   "outputs": [
    {
     "name": "stdout",
     "output_type": "stream",
     "text": [
      "Number of NaNs in EEG data: 0\n"
     ]
    }
   ],
   "source": [
    "nan_counts = np.isnan(embodied_scaled).sum()\n",
    "print(f\"Number of NaNs in EEG data: {nan_counts}\")"
   ]
  },
  {
   "cell_type": "markdown",
   "metadata": {},
   "source": [
    "## PCA"
   ]
  },
  {
   "cell_type": "markdown",
   "metadata": {},
   "source": [
    "### Three components"
   ]
  },
  {
   "cell_type": "code",
   "execution_count": 54,
   "metadata": {},
   "outputs": [],
   "source": [
    "pca = PCA(n_components=3)"
   ]
  },
  {
   "cell_type": "code",
   "execution_count": 55,
   "metadata": {},
   "outputs": [],
   "source": [
    "trad_pca = pca.fit_transform(clean_trad_eeg)"
   ]
  },
  {
   "cell_type": "code",
   "execution_count": null,
   "metadata": {},
   "outputs": [],
   "source": [
    "colors = ['red' if r == 'cn' else 'blue' for r in clean_rule]\n",
    "\n",
    "fig = plt.figure()\n",
    "ax = fig.add_subplot(111, projection='3d')\n",
    "ax.scatter(trad_pca[:, 0], trad_pca[:, 1], trad_pca[:, 2], c=colors, alpha=0.6)\n",
    "ax.set_title(\"PCA of EEG (Color vs Word Rule)\")\n",
    "ax.set_xlabel(\"PC1\")\n",
    "ax.set_ylabel(\"PC2\")\n",
    "ax.set_zlabel(\"PC3\")\n",
    "plt.show()"
   ]
  },
  {
   "cell_type": "code",
   "execution_count": 58,
   "metadata": {},
   "outputs": [],
   "source": [
    "embodied_pca = pca.fit_transform(embodied_scaled)"
   ]
  }
 ],
 "metadata": {
  "kernelspec": {
   "display_name": "Python 3",
   "language": "python",
   "name": "python3"
  },
  "language_info": {
   "codemirror_mode": {
    "name": "ipython",
    "version": 3
   },
   "file_extension": ".py",
   "mimetype": "text/x-python",
   "name": "python",
   "nbconvert_exporter": "python",
   "pygments_lexer": "ipython3",
   "version": "3.12.9"
  }
 },
 "nbformat": 4,
 "nbformat_minor": 2
}
