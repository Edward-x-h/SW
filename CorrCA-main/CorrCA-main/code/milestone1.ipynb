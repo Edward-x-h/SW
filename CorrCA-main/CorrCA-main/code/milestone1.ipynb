{
 "cells": [
  {
   "cell_type": "code",
   "execution_count": 1,
   "metadata": {},
   "outputs": [],
   "source": [
    "import mne, mne_bids\n",
    "# mne.set_config('MNE_BROWSER_BACKEND', 'matplotlib') # To plot in the notebook using matplotlib\n",
    "import sys\n",
    "sys.path.insert(0, '.')\n",
    "import ccs_eeg_utils\n",
    "\n",
    "import matplotlib.pyplot as plt\n",
    "\n",
    "from mne import events_from_annotations\n",
    "from mne_bids import BIDSPath, read_raw_bids\n",
    "import numpy as np\n",
    "\n",
    "import os"
   ]
  },
  {
   "cell_type": "code",
   "execution_count": 5,
   "metadata": {},
   "outputs": [],
   "source": [
    "filtered_output_root = \"/home/fsociety/Documents/Datasets/project-output\"\n",
    "epochs_output_root = \"/home/fsociety/Documents/Datasets/project-epochs\"\n",
    "\n",
    "start_sub = 1\n",
    "end_sub = 31\n",
    "\n",
    "start_music = 300\n",
    "end_music = 360\n",
    "\n",
    "subjects = [f\"{i:02d}\" for i in range(start_sub, end_sub+1)]\n",
    "\n",
    "no_music_run = ['run1', 'run6'] # no music\n",
    "music_run = ['run2', 'run3', 'run4', 'run5'] # music\n",
    "music_list = list(range(start_music, end_music+1)) \n",
    "\n",
    "runs = no_music_run + music_run # all runs"
   ]
  },
  {
   "cell_type": "code",
   "execution_count": 14,
   "metadata": {},
   "outputs": [
    {
     "name": "stdout",
     "output_type": "stream",
     "text": [
      "Not setting metadata\n",
      "60 matching events found\n",
      "No baseline correction applied\n",
      "0 projection items activated\n"
     ]
    }
   ],
   "source": [
    "# Calculate the average of the epochs and save it\n",
    "no_music_epochs = mne.EpochsArray(no_music_epochs, info=raw.info)\n",
    "average_no_audio = np.average(no_music_epochs.average().get_data(), axis=0).reshape(60800, 1)\n"
   ]
  },
  {
   "cell_type": "code",
   "execution_count": 16,
   "metadata": {},
   "outputs": [
    {
     "name": "stdout",
     "output_type": "stream",
     "text": [
      "Saved average_no_audio.npy\n"
     ]
    }
   ],
   "source": [
    "np.save(f\"{epochs_output_root}/average_no_audio.npy\", average_no_audio)\n",
    "print(f\"Saved average_no_audio.npy\")"
   ]
  },
  {
   "cell_type": "code",
   "execution_count": null,
   "metadata": {},
   "outputs": [],
   "source": []
  },
  {
   "cell_type": "code",
   "execution_count": null,
   "metadata": {},
   "outputs": [],
   "source": []
  }
 ],
 "metadata": {
  "kernelspec": {
   "display_name": "base",
   "language": "python",
   "name": "python3"
  },
  "language_info": {
   "codemirror_mode": {
    "name": "ipython",
    "version": 3
   },
   "file_extension": ".py",
   "mimetype": "text/x-python",
   "name": "python",
   "nbconvert_exporter": "python",
   "pygments_lexer": "ipython3",
   "version": "3.11.7"
  }
 },
 "nbformat": 4,
 "nbformat_minor": 2
}
